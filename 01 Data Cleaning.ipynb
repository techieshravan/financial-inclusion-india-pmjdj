{
 "cells": [
  {
   "cell_type": "code",
   "execution_count": 1,
   "id": "54b3c65b-c39b-47d1-896c-8c39378e0a3b",
   "metadata": {},
   "outputs": [],
   "source": [
    "import pandas as pd\n",
    "import numpy as np\n",
    "import warnings\n",
    "import os\n",
    "warnings.filterwarnings('ignore')"
   ]
  },
  {
   "cell_type": "code",
   "execution_count": 2,
   "id": "00ce3134-7b98-43aa-82fd-23641483bf05",
   "metadata": {},
   "outputs": [
    {
     "name": "stdout",
     "output_type": "stream",
     "text": [
      "\n",
      "1. LOADING RAW DATA FILES...\n",
      "Census data loaded: 640 districts, 118 columns\n",
      "Time series data loaded: 36 states, 14 columns\n",
      "Current report loaded: 37 rows, 7 columns\n"
     ]
    }
   ],
   "source": [
    "print(\"\\n1. LOADING RAW DATA FILES...\")\n",
    "\n",
    "# Load Census Data (Dataset 1)\n",
    "census_raw = pd.read_excel('./source data/01 india-districts-census.xlsx')\n",
    "print(f\"Census data loaded: {census_raw.shape[0]} districts, {census_raw.shape[1]} columns\")\n",
    "\n",
    "# Load PMJDY Time Series (Dataset 2)\n",
    "pmjdy_ts_raw = pd.read_excel('./source data/02 pmjdy_statewise_2020_2025.xlsx')\n",
    "print(f\"Time series data loaded: {pmjdy_ts_raw.shape[0]} states, {pmjdy_ts_raw.shape[1]} columns\")\n",
    "\n",
    "# Load Current PMJDY Report (Dataset 3)\n",
    "pmjdy_curr_raw = pd.read_excel('./source data/03 Statewise account opening Report as on 09 07 2025.xlsx')\n",
    "print(f\"Current report loaded: {pmjdy_curr_raw.shape[0]} rows, {pmjdy_curr_raw.shape[1]} columns\")"
   ]
  },
  {
   "cell_type": "code",
   "execution_count": 3,
   "id": "78b40ff2-6a42-4f59-b503-d17c26f3529d",
   "metadata": {},
   "outputs": [
    {
     "name": "stdout",
     "output_type": "stream",
     "text": [
      "\n",
      "2. CLEANING TIME SERIES DATA (2020-2025)...\n",
      "Standardized state names\n",
      "Converted values from lakhs to actual numbers\n",
      "Calculated operative rates for all periods\n",
      "Calculated growth metrics (CAGR, YoY growth)\n",
      "Final shape: (36, 27)\n"
     ]
    }
   ],
   "source": [
    "print(\"\\n2. CLEANING TIME SERIES DATA (2020-2025)...\")\n",
    "\n",
    "# Create clean dataframe\n",
    "pmjdy_ts_clean = pmjdy_ts_raw.copy()\n",
    "\n",
    "# Fix state names\n",
    "pmjdy_ts_clean['State/UT'] = pmjdy_ts_clean['State/UT'].replace('Islands', 'Andaman And Nicobar Islands')\n",
    "print(\"Standardized state names\")\n",
    "\n",
    "# Convert from lakhs to actual numbers\n",
    "value_columns = ['Mar20_Total', 'Mar20_Operative', 'Mar21_Total', 'Mar21_Operative',\n",
    "                 'Mar22_Total', 'Mar22_Operative', 'Mar23_Total', 'Mar23_Operative',\n",
    "                 'Mar24_Total', 'Mar24_Operative', 'Jan25_Total', 'Jan25_Operative']\n",
    "\n",
    "for col in value_columns:\n",
    "    pmjdy_ts_clean[col] = (pmjdy_ts_clean[col] * 100000).round(0).astype(int)\n",
    "print(\"Converted values from lakhs to actual numbers\")\n",
    "\n",
    "# Calculate operative rates for each period\n",
    "periods = ['Mar20', 'Mar21', 'Mar22', 'Mar23', 'Mar24', 'Jan25']\n",
    "for period in periods:\n",
    "    pmjdy_ts_clean[f'{period}_Op_Rate'] = (\n",
    "        pmjdy_ts_clean[f'{period}_Operative'] / pmjdy_ts_clean[f'{period}_Total'] * 100\n",
    "    ).round(2)\n",
    "print(\"Calculated operative rates for all periods\")\n",
    "\n",
    "# Calculate growth metrics\n",
    "pmjdy_ts_clean['CAGR_2020_25'] = (np.power(pmjdy_ts_clean['Jan25_Total'] / pmjdy_ts_clean['Mar20_Total'], 1/4.83) - 1) * 100\n",
    "pmjdy_ts_clean['CAGR_2020_25'] = pmjdy_ts_clean['CAGR_2020_25'].round(2)\n",
    "\n",
    "pmjdy_ts_clean['Growth_2024_25'] = (\n",
    "    (pmjdy_ts_clean['Jan25_Total'] - pmjdy_ts_clean['Mar24_Total']) / \n",
    "    pmjdy_ts_clean['Mar24_Total'] * 100\n",
    ").round(2)\n",
    "\n",
    "# Year-over-year growth rates for ML models\n",
    "for i, (year1, year2) in enumerate(zip(periods[:-1], periods[1:])):\n",
    "    pmjdy_ts_clean[f'Growth_{year1}_{year2}'] = (\n",
    "        (pmjdy_ts_clean[f'{year2}_Total'] - pmjdy_ts_clean[f'{year1}_Total']) / \n",
    "        pmjdy_ts_clean[f'{year1}_Total'] * 100\n",
    "    ).round(2)\n",
    "\n",
    "print(\"Calculated growth metrics (CAGR, YoY growth)\")\n",
    "print(f\"Final shape: {pmjdy_ts_clean.shape}\")"
   ]
  },
  {
   "cell_type": "code",
   "execution_count": 4,
   "id": "80fc32ce-3385-48ff-96a9-099770c7d79f",
   "metadata": {},
   "outputs": [
    {
     "name": "stdout",
     "output_type": "stream",
     "text": [
      "\n",
      "3. CLEANING CURRENT REPORT (JULY 2025)...\n",
      "Removed 'Total' row, 36 states remain\n",
      "Converted balance from crores to rupees\n",
      "Calculated rural/urban percentages\n",
      "Calculated RuPay penetration rate\n",
      "Calculated average balance per account\n",
      "Final shape: (36, 13)\n"
     ]
    }
   ],
   "source": [
    "print(\"\\n3. CLEANING CURRENT REPORT (JULY 2025)...\")\n",
    "\n",
    "# Remove total row\n",
    "pmjdy_curr_clean = pmjdy_curr_raw[pmjdy_curr_raw['State Name'] != 'Total'].copy()\n",
    "print(f\"Removed 'Total' row, {len(pmjdy_curr_clean)} states remain\")\n",
    "\n",
    "# Rename columns for clarity\n",
    "pmjdy_curr_clean.columns = ['S.No', 'State_Name', 'Rural_Beneficiaries', \n",
    "                            'Urban_Beneficiaries', 'Total_Beneficiaries',\n",
    "                            'Balance_Crores', 'RuPay_Cards']\n",
    "\n",
    "# Convert balance to rupees\n",
    "pmjdy_curr_clean['Balance_Rupees'] = pmjdy_curr_clean['Balance_Crores'] * 10000000\n",
    "print(\"Converted balance from crores to rupees\")\n",
    "\n",
    "# Calculate derived metrics\n",
    "pmjdy_curr_clean['Rural_Percent'] = (\n",
    "    pmjdy_curr_clean['Rural_Beneficiaries'] / pmjdy_curr_clean['Total_Beneficiaries'] * 100\n",
    ").round(2)\n",
    "\n",
    "pmjdy_curr_clean['Urban_Percent'] = (\n",
    "    pmjdy_curr_clean['Urban_Beneficiaries'] / pmjdy_curr_clean['Total_Beneficiaries'] * 100\n",
    ").round(2)\n",
    "\n",
    "pmjdy_curr_clean['RuPay_Penetration'] = (\n",
    "    pmjdy_curr_clean['RuPay_Cards'] / pmjdy_curr_clean['Total_Beneficiaries'] * 100\n",
    ").round(2)\n",
    "\n",
    "pmjdy_curr_clean['Avg_Balance_Rs'] = (\n",
    "    pmjdy_curr_clean['Balance_Rupees'] / pmjdy_curr_clean['Total_Beneficiaries']\n",
    ").round(2)\n",
    "\n",
    "pmjdy_curr_clean['Rural_Urban_Ratio'] = (\n",
    "    pmjdy_curr_clean['Rural_Beneficiaries'] / pmjdy_curr_clean['Urban_Beneficiaries']\n",
    ").round(3)\n",
    "\n",
    "print(\"Calculated rural/urban percentages\")\n",
    "print(\"Calculated RuPay penetration rate\")\n",
    "print(\"Calculated average balance per account\")\n",
    "print(f\"Final shape: {pmjdy_curr_clean.shape}\")"
   ]
  },
  {
   "cell_type": "code",
   "execution_count": 5,
   "id": "f821d268-445c-43e3-b6f6-5a0030b198a0",
   "metadata": {},
   "outputs": [
    {
     "name": "stdout",
     "output_type": "stream",
     "text": [
      "\n",
      "4. AGGREGATING CENSUS DATA TO STATE LEVEL...\n",
      "Aggregated 640 districts to 35 states\n",
      "Calculated literacy rate, rural/urban percentages\n",
      "Calculated infrastructure penetration metrics\n",
      "Final shape: (35, 22)\n"
     ]
    }
   ],
   "source": [
    "print(\"\\n4. AGGREGATING CENSUS DATA TO STATE LEVEL...\")\n",
    "\n",
    "# Key census columns to aggregate\n",
    "census_agg = census_raw.groupby('State name').agg({\n",
    "    'District code': 'count',  # Count of districts\n",
    "    'Population': 'sum',\n",
    "    'Households': 'sum',\n",
    "    'Rural_Households': 'sum',\n",
    "    'Urban_Households': 'sum',\n",
    "    'Literate': 'sum',\n",
    "    'Workers': 'sum',\n",
    "    'Households_with_Internet': 'sum',\n",
    "    'Households_with_Computer': 'sum',\n",
    "    'Households_with_Telephone_Mobile_Phone': 'sum',\n",
    "    'Housholds_with_Electric_Lighting': 'sum',\n",
    "    'LPG_or_PNG_Households': 'sum',\n",
    "    'Male': 'sum',\n",
    "    'Female': 'sum'\n",
    "}).reset_index()\n",
    "\n",
    "# Rename columns\n",
    "census_agg.rename(columns={\n",
    "    'State name': 'State_Name',\n",
    "    'District code': 'Total_Districts'\n",
    "}, inplace=True)\n",
    "\n",
    "# Calculate percentages and ratios\n",
    "census_agg['Rural_HH_Percent'] = (census_agg['Rural_Households'] / census_agg['Households'] * 100).round(2)\n",
    "census_agg['Urban_HH_Percent'] = (census_agg['Urban_Households'] / census_agg['Households'] * 100).round(2)\n",
    "census_agg['Literacy_Rate'] = (census_agg['Literate'] / census_agg['Population'] * 100).round(2)\n",
    "census_agg['Internet_Penetration'] = (census_agg['Households_with_Internet'] / census_agg['Households'] * 100).round(2)\n",
    "census_agg['Phone_Penetration'] = (census_agg['Households_with_Telephone_Mobile_Phone'] / census_agg['Households'] * 100).round(2)\n",
    "census_agg['Electricity_Access'] = (census_agg['Housholds_with_Electric_Lighting'] / census_agg['Households'] * 100).round(2)\n",
    "census_agg['Gender_Ratio'] = (census_agg['Female'] / census_agg['Male'] * 1000).round(0)\n",
    "\n",
    "print(f\"Aggregated {len(census_raw)} districts to {len(census_agg)} states\")\n",
    "print(\"Calculated literacy rate, rural/urban percentages\")\n",
    "print(\"Calculated infrastructure penetration metrics\")\n",
    "print(f\"Final shape: {census_agg.shape}\")"
   ]
  },
  {
   "cell_type": "code",
   "execution_count": 6,
   "id": "21f241f1-c71e-4693-ba1c-631cb5c89ea1",
   "metadata": {},
   "outputs": [
    {
     "name": "stdout",
     "output_type": "stream",
     "text": [
      "\n",
      "5. CREATING INTEGRATED ML DATASET...\n",
      "Successfully integrated data for 36 states\n",
      "Created binary classification flags\n",
      "Calculated density and trend metrics\n",
      "Final ML dataset shape: (36, 52)\n"
     ]
    }
   ],
   "source": [
    "print(\"\\n5. CREATING INTEGRATED ML DATASET...\")\n",
    "\n",
    "# Standardize state names for merging\n",
    "pmjdy_ts_clean['State_Name_Std'] = pmjdy_ts_clean['State/UT'].str.upper().str.strip()\n",
    "pmjdy_curr_clean['State_Name_Std'] = pmjdy_curr_clean['State_Name'].str.upper().str.strip()\n",
    "census_agg['State_Name_Std'] = census_agg['State_Name'].str.upper().str.strip()\n",
    "\n",
    "# Merge time series with current data\n",
    "ml_dataset = pmjdy_ts_clean.merge(\n",
    "    pmjdy_curr_clean[['State_Name_Std', 'Rural_Beneficiaries', 'Urban_Beneficiaries',\n",
    "                      'Total_Beneficiaries', 'Balance_Rupees', 'RuPay_Cards',\n",
    "                      'Rural_Percent', 'RuPay_Penetration', 'Avg_Balance_Rs',\n",
    "                      'Rural_Urban_Ratio']],\n",
    "    on='State_Name_Std',\n",
    "    how='left'\n",
    ")\n",
    "\n",
    "# Merge with census data\n",
    "ml_dataset = ml_dataset.merge(\n",
    "    census_agg[['State_Name_Std', 'Population', 'Households', 'Literacy_Rate',\n",
    "                'Rural_HH_Percent', 'Internet_Penetration', 'Phone_Penetration']],\n",
    "    on='State_Name_Std',\n",
    "    how='left'\n",
    ")\n",
    "\n",
    "# Create ML features as per methodology\n",
    "ml_dataset['Account_Density_Per_Lakh'] = (\n",
    "    ml_dataset['Total_Beneficiaries'] / (ml_dataset['Population'] / 100000)\n",
    ").round(2)\n",
    "\n",
    "ml_dataset['High_Operative_Flag'] = (ml_dataset['Jan25_Op_Rate'] > 75).astype(int)\n",
    "ml_dataset['High_Growth_Flag'] = (ml_dataset['Growth_2024_25'] > 40).astype(int)\n",
    "ml_dataset['High_RuPay_Flag'] = (ml_dataset['RuPay_Penetration'] > 70).astype(int)\n",
    "ml_dataset['High_Balance_Flag'] = (ml_dataset['Avg_Balance_Rs'] > 4000).astype(int)\n",
    "ml_dataset['Rural_Dominated_Flag'] = (ml_dataset['Rural_Percent'] > 70).astype(int)\n",
    "\n",
    "# Calculate operative trend features\n",
    "operative_cols = [f'{period}_Op_Rate' for period in periods]\n",
    "ml_dataset['Operative_Mean'] = ml_dataset[operative_cols].mean(axis=1).round(2)\n",
    "ml_dataset['Operative_Std'] = ml_dataset[operative_cols].std(axis=1).round(2)\n",
    "ml_dataset['Operative_Trend'] = ml_dataset[operative_cols].apply(\n",
    "    lambda x: np.polyfit(range(len(x)), x, 1)[0], axis=1\n",
    ").round(3)\n",
    "\n",
    "print(f\"Successfully integrated data for {len(ml_dataset)} states\")\n",
    "print(\"Created binary classification flags\")\n",
    "print(\"Calculated density and trend metrics\")\n",
    "print(f\"Final ML dataset shape: {ml_dataset.shape}\")"
   ]
  },
  {
   "cell_type": "code",
   "execution_count": 7,
   "id": "51eeaa35-8c18-47d6-aab5-71f88a46c568",
   "metadata": {},
   "outputs": [
    {
     "name": "stdout",
     "output_type": "stream",
     "text": [
      "\n",
      "6. SAVING CLEANED DATASETS...\n",
      "Saved: cleaned_pmjdy_timeseries.csv\n",
      "Saved: cleaned_pmjdy_current.csv\n",
      "Saved: cleaned_census_statewise.csv\n",
      "Saved: ml_integrated_dataset.csv\n",
      "Saved: pmjdy_cleaned_all.xlsx (all sheets)\n"
     ]
    }
   ],
   "source": [
    "print(\"\\n6. SAVING CLEANED DATASETS...\")\n",
    "\n",
    "# Create folder if it doesn't exist\n",
    "os.makedirs(\"cleaned datasets\", exist_ok=True)\n",
    "\n",
    "# Save individual cleaned datasets\n",
    "pmjdy_ts_clean.to_csv('./cleaned datasets/cleaned_pmjdy_timeseries.csv', index=False)\n",
    "print(\"Saved: cleaned_pmjdy_timeseries.csv\")\n",
    "\n",
    "pmjdy_curr_clean.to_csv('./cleaned datasets/cleaned_pmjdy_current.csv', index=False)\n",
    "print(\"Saved: cleaned_pmjdy_current.csv\")\n",
    "\n",
    "census_agg.to_csv('./cleaned datasets/cleaned_census_statewise.csv', index=False)\n",
    "print(\"Saved: cleaned_census_statewise.csv\")\n",
    "\n",
    "# Save integrated ML dataset\n",
    "ml_dataset.to_csv('./cleaned datasets/ml_integrated_dataset.csv', index=False)\n",
    "print(\"Saved: ml_integrated_dataset.csv\")\n",
    "\n",
    "# Save to Excel with multiple sheets\n",
    "with pd.ExcelWriter('./cleaned datasets/pmjdy_cleaned_all.xlsx', engine='openpyxl') as writer:\n",
    "    pmjdy_ts_clean.to_excel(writer, sheet_name='Time_Series', index=False)\n",
    "    pmjdy_curr_clean.to_excel(writer, sheet_name='Current_Report', index=False)\n",
    "    census_agg.to_excel(writer, sheet_name='Census_State', index=False)\n",
    "    ml_dataset.to_excel(writer, sheet_name='ML_Dataset', index=False)\n",
    "print(\"Saved: pmjdy_cleaned_all.xlsx (all sheets)\")"
   ]
  },
  {
   "cell_type": "code",
   "execution_count": 8,
   "id": "0a3bcd98-ff42-44d3-a5f8-ccb1e598dd35",
   "metadata": {},
   "outputs": [
    {
     "name": "stdout",
     "output_type": "stream",
     "text": [
      "DATA CLEANING SUMMARY\n",
      "\n",
      "Key Statistics:\n",
      "Total states/UTs processed: 36\n",
      "States with >75% operative rate: 25\n",
      "States with >40% recent growth: 0\n",
      "States with >70% RuPay penetration: 14\n",
      "Rural-dominated states (>70% rural): 14\n",
      "\n",
      "Data Quality Checks:\n",
      "Missing population data: 7 states\n",
      "Data completeness: 96.4%\n",
      "\n",
      "DATA CLEANING COMPLETED SUCCESSFULLY!\n"
     ]
    }
   ],
   "source": [
    "print(\"DATA CLEANING SUMMARY\")\n",
    "print(\"\\nKey Statistics:\")\n",
    "print(f\"Total states/UTs processed: {len(ml_dataset)}\")\n",
    "print(f\"States with >75% operative rate: {ml_dataset['High_Operative_Flag'].sum()}\")\n",
    "print(f\"States with >40% recent growth: {ml_dataset['High_Growth_Flag'].sum()}\")\n",
    "print(f\"States with >70% RuPay penetration: {ml_dataset['High_RuPay_Flag'].sum()}\")\n",
    "print(f\"Rural-dominated states (>70% rural): {ml_dataset['Rural_Dominated_Flag'].sum()}\")\n",
    "\n",
    "print(\"\\nData Quality Checks:\")\n",
    "print(f\"Missing population data: {ml_dataset['Population'].isna().sum()} states\")\n",
    "print(f\"Data completeness: {(1 - ml_dataset.isna().sum().sum() / ml_dataset.size) * 100:.1f}%\")\n",
    "\n",
    "print(\"\\nDATA CLEANING COMPLETED SUCCESSFULLY!\")"
   ]
  }
 ],
 "metadata": {
  "kernelspec": {
   "display_name": "Python [conda env:base] *",
   "language": "python",
   "name": "conda-base-py"
  },
  "language_info": {
   "codemirror_mode": {
    "name": "ipython",
    "version": 3
   },
   "file_extension": ".py",
   "mimetype": "text/x-python",
   "name": "python",
   "nbconvert_exporter": "python",
   "pygments_lexer": "ipython3",
   "version": "3.12.2"
  }
 },
 "nbformat": 4,
 "nbformat_minor": 5
}
